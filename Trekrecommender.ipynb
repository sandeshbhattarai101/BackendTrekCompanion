{
 "cells": [
  {
   "cell_type": "code",
   "execution_count": null,
   "id": "9a5f8e66",
   "metadata": {},
   "outputs": [],
   "source": [
    "import numpy as np\n",
    "import pandas as pd"
   ]
  },
  {
   "cell_type": "code",
   "execution_count": null,
   "id": "24b39f74",
   "metadata": {},
   "outputs": [],
   "source": [
    "destinations = pd.read_csv(\"Trek Data.csv\")\n"
   ]
  },
  {
   "cell_type": "code",
   "execution_count": null,
   "id": "cd3faf50",
   "metadata": {},
   "outputs": [],
   "source": [
    "destinations = destinations[['Trek', 'Cost', 'Time', 'TripGrade', 'MaxAltitude', 'BestTravelTime']]"
   ]
  },
  {
   "cell_type": "code",
   "execution_count": null,
   "id": "28b5d885",
   "metadata": {},
   "outputs": [
    {
     "data": {
      "text/plain": [
       "Trek              0\n",
       "Cost              0\n",
       "Time              0\n",
       "TripGrade         0\n",
       "MaxAltitude       0\n",
       "BestTravelTime    0\n",
       "dtype: int64"
      ]
     },
     "execution_count": 7,
     "metadata": {},
     "output_type": "execute_result"
    }
   ],
   "source": [
    "destinations.isnull().sum()"
   ]
  },
  {
   "cell_type": "code",
   "execution_count": null,
   "id": "60b452b3",
   "metadata": {},
   "outputs": [
    {
     "data": {
      "text/plain": [
       "0"
      ]
     },
     "execution_count": 8,
     "metadata": {},
     "output_type": "execute_result"
    }
   ],
   "source": [
    "destinations.duplicated().sum()"
   ]
  },
  {
   "cell_type": "code",
   "execution_count": null,
   "id": "ffd02104",
   "metadata": {},
   "outputs": [
    {
     "data": {
      "text/plain": [
       "'\\n$1420USD'"
      ]
     },
     "execution_count": 9,
     "metadata": {},
     "output_type": "execute_result"
    }
   ],
   "source": [
    "destinations.iloc[0].Cost"
   ]
  },
  {
   "cell_type": "code",
   "execution_count": null,
   "id": "cf7a6621",
   "metadata": {},
   "outputs": [],
   "source": [
    "destinations['Cost'] = destinations['Cost'].apply(lambda x:x.split())"
   ]
  },
  {
   "cell_type": "code",
   "execution_count": null,
   "id": "03245416",
   "metadata": {},
   "outputs": [],
   "source": [
    "destinations['Time'] = destinations['Time'].apply(lambda x:x.split())"
   ]
  },
  {
   "cell_type": "code",
   "execution_count": null,
   "id": "5e6dcf8e",
   "metadata": {},
   "outputs": [],
   "source": [
    "destinations['MaxAltitude'] = destinations['MaxAltitude'].apply(lambda x:x.split())"
   ]
  },
  {
   "cell_type": "code",
   "execution_count": null,
   "id": "aaa4a5e5",
   "metadata": {},
   "outputs": [],
   "source": [
    "destinations['TripGrade'] = destinations['TripGrade'].apply(lambda x:x.split())"
   ]
  },
  {
   "cell_type": "code",
   "execution_count": null,
   "id": "c3cc31c8",
   "metadata": {},
   "outputs": [],
   "source": [
    "destinations['BestTravelTime'] = destinations['BestTravelTime'].apply(lambda x:x.split())"
   ]
  },
  {
   "cell_type": "code",
   "execution_count": null,
   "id": "3dc7ca8d",
   "metadata": {},
   "outputs": [],
   "source": [
    "destinations['tags']= destinations['Cost'] + destinations['Time'] + destinations['TripGrade'] + destinations['MaxAltitude'] + destinations['BestTravelTime']"
   ]
  },
  {
   "cell_type": "code",
   "execution_count": null,
   "id": "00bdce0c",
   "metadata": {},
   "outputs": [],
   "source": [
    "new_df = destinations[['Trek', 'tags']]"
   ]
  },
  {
   "cell_type": "code",
   "execution_count": null,
   "id": "8f4bff6e",
   "metadata": {},
   "outputs": [
    {
     "name": "stderr",
     "output_type": "stream",
     "text": [
      "C:\\Users\\Sandesh\\AppData\\Local\\Temp\\ipykernel_8856\\3089450492.py:1: SettingWithCopyWarning: \n",
      "A value is trying to be set on a copy of a slice from a DataFrame.\n",
      "Try using .loc[row_indexer,col_indexer] = value instead\n",
      "\n",
      "See the caveats in the documentation: https://pandas.pydata.org/pandas-docs/stable/user_guide/indexing.html#returning-a-view-versus-a-copy\n",
      "  new_df['tags'] = new_df['tags'].apply(lambda x:\" \".join(x))\n"
     ]
    }
   ],
   "source": [
    "new_df['tags'] = new_df['tags'].apply(lambda x:\" \".join(x))"
   ]
  },
  {
   "cell_type": "code",
   "execution_count": null,
   "id": "bfe6d741",
   "metadata": {},
   "outputs": [
    {
     "name": "stderr",
     "output_type": "stream",
     "text": [
      "C:\\Users\\Sandesh\\AppData\\Local\\Temp\\ipykernel_8856\\3214958533.py:1: SettingWithCopyWarning: \n",
      "A value is trying to be set on a copy of a slice from a DataFrame.\n",
      "Try using .loc[row_indexer,col_indexer] = value instead\n",
      "\n",
      "See the caveats in the documentation: https://pandas.pydata.org/pandas-docs/stable/user_guide/indexing.html#returning-a-view-versus-a-copy\n",
      "  new_df['tags'] = new_df['tags'].apply(lambda x:x.lower())\n"
     ]
    }
   ],
   "source": [
    "new_df['tags'] = new_df['tags'].apply(lambda x:x.lower())"
   ]
  },
  {
   "cell_type": "code",
   "execution_count": null,
   "id": "9c1afab2",
   "metadata": {},
   "outputs": [],
   "source": [
    "from sklearn.feature_extraction.text import CountVectorizer\n",
    "cv = CountVectorizer(max_features=1000, stop_words='english')"
   ]
  },
  {
   "cell_type": "code",
   "execution_count": null,
   "id": "9dcfdd42",
   "metadata": {},
   "outputs": [],
   "source": [
    "vectors = cv.fit_transform(new_df['tags']).toarray()"
   ]
  },
  {
   "cell_type": "code",
   "execution_count": null,
   "id": "bf16dc23",
   "metadata": {},
   "outputs": [
    {
     "data": {
      "text/plain": [
       "array(['1040usd', '1060usd', '1090usd', '10days', '1100usd', '1150usd',\n",
       "       '1180usd', '1190usd', '11days', '1250usd', '1295usd', '12days',\n",
       "       '1350usd', '1380usd', '1390usd', '13days', '1420usd', '1450usd',\n",
       "       '1499usd', '14days', '1530usd', '1550m', '15days', '16days',\n",
       "       '1720usd', '1730m', '1750usd', '17days', '1800usd', '1850usd',\n",
       "       '18days', '1900usd', '1950usd', '1990m', '19days', '2000usd',\n",
       "       '2012m', '20days', '2100usd', '2150usd', '21days', '22days',\n",
       "       '2300usd', '25days', '2607m', '27days', '3055m', '3210m',\n",
       "       '3300usd', '3540m', '3650m', '3860m', '3870m', '3900m', '4130m',\n",
       "       '4200m', '4200usd', '4210m', '4230m', '4460m', '4500m', '450usd',\n",
       "       '4600m', '4773m', '4870m', '5000m', '5050m', '5106m', '5122m',\n",
       "       '5143m', '5160m', '5220m', '5320m', '5357m', '5360m', '5416m',\n",
       "       '5545m', '5546m', '590usd', '5days', '6000m', '6340m', '690usd',\n",
       "       '750usd', '780usd', '7days', '850usd', '860usd', '8days', '920usd',\n",
       "       '980usd', '9days', 'april', 'challenging', 'dec', 'demanding',\n",
       "       'easy', 'easytomoderate', 'hard', 'jan', 'light', 'march',\n",
       "       'marchmay', 'moderate', 'nov', 'sept', 'septdec', 'setpt',\n",
       "       'strenuous'], dtype=object)"
      ]
     },
     "execution_count": 21,
     "metadata": {},
     "output_type": "execute_result"
    }
   ],
   "source": [
    "cv.get_feature_names_out()"
   ]
  },
  {
   "cell_type": "code",
   "execution_count": null,
   "id": "81fcde5b",
   "metadata": {},
   "outputs": [],
   "source": [
    "from sklearn.metrics.pairwise import cosine_similarity"
   ]
  },
  {
   "cell_type": "code",
   "execution_count": null,
   "id": "cf80d620",
   "metadata": {},
   "outputs": [],
   "source": [
    "similarity = cosine_similarity(vectors)"
   ]
  },
  {
   "cell_type": "code",
   "execution_count": null,
   "id": "8e615e33",
   "metadata": {},
   "outputs": [
    {
     "data": {
      "text/plain": [
       "[(1, 0.7142857142857141),\n",
       " (2, 0.7142857142857141),\n",
       " (3, 0.7142857142857141),\n",
       " (4, 0.7142857142857141),\n",
       " (6, 0.7142857142857141)]"
      ]
     },
     "execution_count": 24,
     "metadata": {},
     "output_type": "execute_result"
    }
   ],
   "source": [
    "sorted(list(enumerate(similarity[0])),reverse=True,key=lambda x:x[1])[1:6]"
   ]
  },
  {
   "cell_type": "code",
   "execution_count": null,
   "id": "734fe050",
   "metadata": {},
   "outputs": [],
   "source": [
    "# import sys\n",
    "\n",
    "def recommend(destination):\n",
    "    destination_index = new_df[new_df['Trek'] == destination].index[0]\n",
    "    distances = similarity[destination_index]\n",
    "    destinations_list = sorted(list(enumerate(distances)),reverse=True,key=lambda x:x[1])[1:6]\n",
    "    \n",
    "    for i in destinations_list:\n",
    "     print(new_df.iloc[i[0]].Trek)\n",
    "\n"
   ]
  },
  {
   "cell_type": "code",
   "execution_count": null,
   "id": "9e5823b4",
   "metadata": {},
   "outputs": [
    {
     "name": "stdout",
     "output_type": "stream",
     "text": [
      "Annapurna Base Camp Heli Trek\n",
      "Short Everest Trek\n",
      "Everest View Trek\n",
      "Annapurna Base Camp Short Trek\n",
      "Instant Annapurna Base Camp Trek\n"
     ]
    }
   ],
   "source": [
    "recommend(\"Mardi Himal Trek\")\n",
    "\n",
    "# if __name__ == \"__main__\":\n",
    "#     if len(sys.argv) != 2:\n",
    "#         print(\"Usage: python trekrecommender.py <destination>\")\n",
    "#         sys.exit(1)\n",
    "\n",
    "#     destination = sys.argv[1]\n",
    "#     recommend(destination)"
   ]
  },
  {
   "cell_type": "code",
   "execution_count": null,
   "id": "e35646a3",
   "metadata": {},
   "outputs": [],
   "source": []
  }
 ],
 "metadata": {
  "kernelspec": {
   "display_name": "Python 3 (ipykernel)",
   "language": "python",
   "name": "python3"
  },
  "language_info": {
   "codemirror_mode": {
    "name": "ipython",
    "version": 3
   },
   "file_extension": ".py",
   "mimetype": "text/x-python",
   "name": "python",
   "nbconvert_exporter": "python",
   "pygments_lexer": "ipython3",
   "version": "3.11.5"
  }
 },
 "nbformat": 4,
 "nbformat_minor": 5
}
